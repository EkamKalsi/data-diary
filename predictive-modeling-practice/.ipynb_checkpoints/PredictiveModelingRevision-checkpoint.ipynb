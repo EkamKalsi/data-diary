{
 "cells": [
  {
   "cell_type": "code",
   "execution_count": 11,
   "id": "f348c69b-9b19-4cdf-80a6-39b657719eb3",
   "metadata": {},
   "outputs": [],
   "source": [
    "import pandas as pd\n",
    "import numpy as np\n",
    "import os\n",
    "import matplotlib.pyplot as plt\n",
    "import random"
   ]
  },
  {
   "cell_type": "code",
   "execution_count": 20,
   "id": "bf3aff22-03cb-435c-b97a-659b899b3228",
   "metadata": {},
   "outputs": [],
   "source": [
    "def generate_label(row):\n",
    "    for name, value in row.items():\n",
    "        label = random.random()*value\n",
    "    return label + random.random()\n",
    "def generate_data(num_features, num_size):\n",
    "    np.random.seed(42)\n",
    "    cols = []\n",
    "    for i in range(1,num_features+1):\n",
    "        cols.append('X_' + str(i))\n",
    "    df = pd.DataFrame(np.random.rand(num_size, num_features), columns=cols)\n",
    "    df['label'] = df.apply(generate_label,axis=1)\n",
    "    return df\n",
    "all_df = generate_data(10,1000)"
   ]
  },
  {
   "cell_type": "code",
   "execution_count": 27,
   "id": "1ac27e50-422c-4a21-b2f4-52e979a4bd10",
   "metadata": {},
   "outputs": [],
   "source": [
    "from sklearn.model_selection import train_test_split\n",
    "def split_data(df,label_column):\n",
    "    X = df.copy()\n",
    "    y = df[label_column]\n",
    "    X.drop(columns=label_column,inplace=True)\n",
    "    X_train, X_test, y_train, y_test = train_test_split(X, y, test_size=0.2, random_state=42)\n",
    "    return X_train, X_test, y_train, y_test\n",
    "X_train, X_test, y_train, y_test = split_data(all_df,'label')"
   ]
  },
  {
   "cell_type": "code",
   "execution_count": 40,
   "id": "5db96b63-0c8a-455a-86b4-cec3d05059fe",
   "metadata": {},
   "outputs": [
    {
     "name": "stdout",
     "output_type": "stream",
     "text": [
      "Coefficients: [-0.0038409  -0.00628674  0.01026724 -0.07021051 -0.01741712 -0.02010502\n",
      " -0.07998465 -0.06486521 -0.04490953  0.43800207]\n",
      "Intercept: 0.662359201502498\n",
      "Feature Importance:\n",
      "   variable       imp\n",
      "0      X_1 -0.003841\n",
      "1      X_2 -0.006287\n",
      "2      X_3  0.010267\n",
      "3      X_4 -0.070211\n",
      "4      X_5 -0.017417\n",
      "5      X_6 -0.020105\n",
      "6      X_7 -0.079985\n",
      "7      X_8 -0.064865\n",
      "8      X_9 -0.044910\n",
      "9     X_10  0.438002\n",
      "R-squared: 0.13398565494416736\n"
     ]
    }
   ],
   "source": [
    "from sklearn.linear_model import LinearRegression\n",
    "from sklearn.metrics import mean_squared_error, r2_score\n",
    "def linear_regression(X_train, X_test, y_train, y_test):\n",
    "    model = LinearRegression()\n",
    "    model.fit(X_train, y_train)\n",
    "    \n",
    "    print(\"Coefficients:\", model.coef_)\n",
    "    print(\"Intercept:\", model.intercept_)\n",
    "\n",
    "    \n",
    "    df_feature_imp = pd.DataFrame({'variable':X_train.columns, 'imp':model.coef_})\n",
    "    print('Feature Importance:\\n', df_feature_imp)\n",
    "\n",
    "    print('R-squared:', model.score(X_test, y_test))\n",
    "linear_regression(X_train, X_test, y_train, y_test)"
   ]
  },
  {
   "cell_type": "code",
   "execution_count": null,
   "id": "e87a089d-5a54-4bd9-a086-68c97262be1a",
   "metadata": {},
   "outputs": [],
   "source": []
  }
 ],
 "metadata": {
  "kernelspec": {
   "display_name": "Python 3 (ipykernel)",
   "language": "python",
   "name": "python3"
  },
  "language_info": {
   "codemirror_mode": {
    "name": "ipython",
    "version": 3
   },
   "file_extension": ".py",
   "mimetype": "text/x-python",
   "name": "python",
   "nbconvert_exporter": "python",
   "pygments_lexer": "ipython3",
   "version": "3.9.6"
  }
 },
 "nbformat": 4,
 "nbformat_minor": 5
}
